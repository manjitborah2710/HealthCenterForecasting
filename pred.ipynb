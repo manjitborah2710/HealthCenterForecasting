{
 "cells": [
  {
   "cell_type": "code",
   "execution_count": 95,
   "metadata": {},
   "outputs": [],
   "source": [
    "import pandas as pd\n",
    "import numpy as np\n",
    "import seaborn as sns\n",
    "import matplotlib.pyplot as plt\n",
    "from pandas import datetime\n",
    "%matplotlib inline"
   ]
  },
  {
   "cell_type": "code",
   "execution_count": 96,
   "metadata": {},
   "outputs": [],
   "source": [
    "def parser(x):\n",
    "    return datetime.strptime(x,'%d-%m-%Y')"
   ]
  },
  {
   "cell_type": "code",
   "execution_count": 97,
   "metadata": {},
   "outputs": [],
   "source": [
    "df=pd.read_csv(\"data.csv\", index_col=0, parse_dates=[0], date_parser=parser)"
   ]
  },
  {
   "cell_type": "code",
   "execution_count": 98,
   "metadata": {},
   "outputs": [
    {
     "data": {
      "text/html": [
       "<div>\n",
       "<style scoped>\n",
       "    .dataframe tbody tr th:only-of-type {\n",
       "        vertical-align: middle;\n",
       "    }\n",
       "\n",
       "    .dataframe tbody tr th {\n",
       "        vertical-align: top;\n",
       "    }\n",
       "\n",
       "    .dataframe thead th {\n",
       "        text-align: right;\n",
       "    }\n",
       "</style>\n",
       "<table border=\"1\" class=\"dataframe\">\n",
       "  <thead>\n",
       "    <tr style=\"text-align: right;\">\n",
       "      <th></th>\n",
       "      <th>Acidity</th>\n",
       "      <th>Urti</th>\n",
       "      <th>Indigestion</th>\n",
       "      <th>Hypertension</th>\n",
       "      <th>Dehydration</th>\n",
       "      <th>Low BP</th>\n",
       "      <th>Oral ulcer</th>\n",
       "      <th>Anaemia</th>\n",
       "      <th>old abbrassion</th>\n",
       "      <th>Fungal infection</th>\n",
       "      <th>...</th>\n",
       "      <th>Dysentary</th>\n",
       "      <th>Systeric HTN</th>\n",
       "      <th>acute torillitis</th>\n",
       "      <th>follicular torillitis</th>\n",
       "      <th>Burn</th>\n",
       "      <th>Lethargy</th>\n",
       "      <th>Blood Clot</th>\n",
       "      <th>Jaundice</th>\n",
       "      <th>Ankle Twist</th>\n",
       "      <th>Concentrated Urine</th>\n",
       "    </tr>\n",
       "    <tr>\n",
       "      <th>Date</th>\n",
       "      <th></th>\n",
       "      <th></th>\n",
       "      <th></th>\n",
       "      <th></th>\n",
       "      <th></th>\n",
       "      <th></th>\n",
       "      <th></th>\n",
       "      <th></th>\n",
       "      <th></th>\n",
       "      <th></th>\n",
       "      <th></th>\n",
       "      <th></th>\n",
       "      <th></th>\n",
       "      <th></th>\n",
       "      <th></th>\n",
       "      <th></th>\n",
       "      <th></th>\n",
       "      <th></th>\n",
       "      <th></th>\n",
       "      <th></th>\n",
       "      <th></th>\n",
       "    </tr>\n",
       "  </thead>\n",
       "  <tbody>\n",
       "    <tr>\n",
       "      <th>2018-06-20</th>\n",
       "      <td>2</td>\n",
       "      <td>1</td>\n",
       "      <td>1</td>\n",
       "      <td>1</td>\n",
       "      <td>1</td>\n",
       "      <td>1</td>\n",
       "      <td>0</td>\n",
       "      <td>0</td>\n",
       "      <td>0</td>\n",
       "      <td>0</td>\n",
       "      <td>...</td>\n",
       "      <td>0</td>\n",
       "      <td>0</td>\n",
       "      <td>0</td>\n",
       "      <td>0</td>\n",
       "      <td>0</td>\n",
       "      <td>0</td>\n",
       "      <td>0</td>\n",
       "      <td>0</td>\n",
       "      <td>0</td>\n",
       "      <td>0</td>\n",
       "    </tr>\n",
       "    <tr>\n",
       "      <th>2018-06-21</th>\n",
       "      <td>0</td>\n",
       "      <td>0</td>\n",
       "      <td>0</td>\n",
       "      <td>0</td>\n",
       "      <td>0</td>\n",
       "      <td>0</td>\n",
       "      <td>1</td>\n",
       "      <td>1</td>\n",
       "      <td>0</td>\n",
       "      <td>0</td>\n",
       "      <td>...</td>\n",
       "      <td>0</td>\n",
       "      <td>0</td>\n",
       "      <td>0</td>\n",
       "      <td>0</td>\n",
       "      <td>0</td>\n",
       "      <td>0</td>\n",
       "      <td>0</td>\n",
       "      <td>0</td>\n",
       "      <td>0</td>\n",
       "      <td>0</td>\n",
       "    </tr>\n",
       "    <tr>\n",
       "      <th>2018-06-22</th>\n",
       "      <td>1</td>\n",
       "      <td>1</td>\n",
       "      <td>0</td>\n",
       "      <td>1</td>\n",
       "      <td>0</td>\n",
       "      <td>0</td>\n",
       "      <td>0</td>\n",
       "      <td>0</td>\n",
       "      <td>0</td>\n",
       "      <td>1</td>\n",
       "      <td>...</td>\n",
       "      <td>0</td>\n",
       "      <td>0</td>\n",
       "      <td>0</td>\n",
       "      <td>0</td>\n",
       "      <td>0</td>\n",
       "      <td>0</td>\n",
       "      <td>0</td>\n",
       "      <td>0</td>\n",
       "      <td>0</td>\n",
       "      <td>0</td>\n",
       "    </tr>\n",
       "    <tr>\n",
       "      <th>2018-06-25</th>\n",
       "      <td>0</td>\n",
       "      <td>0</td>\n",
       "      <td>0</td>\n",
       "      <td>0</td>\n",
       "      <td>0</td>\n",
       "      <td>0</td>\n",
       "      <td>0</td>\n",
       "      <td>0</td>\n",
       "      <td>0</td>\n",
       "      <td>0</td>\n",
       "      <td>...</td>\n",
       "      <td>0</td>\n",
       "      <td>0</td>\n",
       "      <td>0</td>\n",
       "      <td>0</td>\n",
       "      <td>0</td>\n",
       "      <td>0</td>\n",
       "      <td>0</td>\n",
       "      <td>0</td>\n",
       "      <td>0</td>\n",
       "      <td>0</td>\n",
       "    </tr>\n",
       "    <tr>\n",
       "      <th>2018-06-27</th>\n",
       "      <td>0</td>\n",
       "      <td>1</td>\n",
       "      <td>0</td>\n",
       "      <td>0</td>\n",
       "      <td>0</td>\n",
       "      <td>0</td>\n",
       "      <td>0</td>\n",
       "      <td>0</td>\n",
       "      <td>0</td>\n",
       "      <td>0</td>\n",
       "      <td>...</td>\n",
       "      <td>0</td>\n",
       "      <td>0</td>\n",
       "      <td>0</td>\n",
       "      <td>0</td>\n",
       "      <td>0</td>\n",
       "      <td>0</td>\n",
       "      <td>0</td>\n",
       "      <td>0</td>\n",
       "      <td>0</td>\n",
       "      <td>0</td>\n",
       "    </tr>\n",
       "  </tbody>\n",
       "</table>\n",
       "<p>5 rows × 56 columns</p>\n",
       "</div>"
      ],
      "text/plain": [
       "            Acidity  Urti  Indigestion  Hypertension  Dehydration  Low BP  \\\n",
       "Date                                                                        \n",
       "2018-06-20        2     1            1             1            1       1   \n",
       "2018-06-21        0     0            0             0            0       0   \n",
       "2018-06-22        1     1            0             1            0       0   \n",
       "2018-06-25        0     0            0             0            0       0   \n",
       "2018-06-27        0     1            0             0            0       0   \n",
       "\n",
       "            Oral ulcer  Anaemia  old abbrassion  Fungal infection  ...  \\\n",
       "Date                                                               ...   \n",
       "2018-06-20           0        0               0                 0  ...   \n",
       "2018-06-21           1        1               0                 0  ...   \n",
       "2018-06-22           0        0               0                 1  ...   \n",
       "2018-06-25           0        0               0                 0  ...   \n",
       "2018-06-27           0        0               0                 0  ...   \n",
       "\n",
       "            Dysentary  Systeric HTN  acute torillitis  \\\n",
       "Date                                                    \n",
       "2018-06-20          0             0                 0   \n",
       "2018-06-21          0             0                 0   \n",
       "2018-06-22          0             0                 0   \n",
       "2018-06-25          0             0                 0   \n",
       "2018-06-27          0             0                 0   \n",
       "\n",
       "            follicular torillitis        Burn  Lethargy  Blood Clot  Jaundice  \\\n",
       "Date                                                                            \n",
       "2018-06-20                            0     0         0           0         0   \n",
       "2018-06-21                            0     0         0           0         0   \n",
       "2018-06-22                            0     0         0           0         0   \n",
       "2018-06-25                            0     0         0           0         0   \n",
       "2018-06-27                            0     0         0           0         0   \n",
       "\n",
       "            Ankle Twist  Concentrated Urine  \n",
       "Date                                         \n",
       "2018-06-20            0                   0  \n",
       "2018-06-21            0                   0  \n",
       "2018-06-22            0                   0  \n",
       "2018-06-25            0                   0  \n",
       "2018-06-27            0                   0  \n",
       "\n",
       "[5 rows x 56 columns]"
      ]
     },
     "execution_count": 98,
     "metadata": {},
     "output_type": "execute_result"
    }
   ],
   "source": [
    "df.head()"
   ]
  },
  {
   "cell_type": "code",
   "execution_count": 99,
   "metadata": {},
   "outputs": [
    {
     "data": {
      "text/plain": [
       "<matplotlib.axes._subplots.AxesSubplot at 0x1ea77ca87f0>"
      ]
     },
     "execution_count": 99,
     "metadata": {},
     "output_type": "execute_result"
    },
    {
     "data": {
      "image/png": "[encoded data removed]",
      "text/plain": [
       "<Figure size 432x288 with 1 Axes>"
      ]
     },
     "metadata": {
      "needs_background": "light"
     },
     "output_type": "display_data"
    }
   ],
   "source": [
    "df.plot(y=\"Indigestion\")"
   ]
  },
  {
   "cell_type": "code",
   "execution_count": 100,
   "metadata": {},
   "outputs": [],
   "source": [
    "##no trend\n"
   ]
  },
  {
   "cell_type": "code",
   "execution_count": 101,
   "metadata": {},
   "outputs": [
    {
     "data": {
      "text/plain": [
       "Urti                           317\n",
       "Cough/Cold                     135\n",
       "Acidity                        124\n",
       "Indigestion                    114\n",
       "Fungal infection                71\n",
       "Fever                           56\n",
       "Itching                         30\n",
       "Oral ulcer                      28\n",
       "injury/cut                      25\n",
       "Headache                        16\n",
       "General weakness                11\n",
       "Back pain                        9\n",
       "Running nose                     9\n",
       "Ring worm                        8\n",
       "Lethargy                         8\n",
       "Diarrhoea                        8\n",
       "Swelling                         7\n",
       "Giddiness                        6\n",
       "Dysentary                        6\n",
       "allergy                          6\n",
       "Myalgia                          6\n",
       "Throat pain                      5\n",
       "Vomitting                        5\n",
       "Loss of appetite                 5\n",
       "APD                              5\n",
       "foot pain                        5\n",
       "Hypertension                     5\n",
       "LRTI                             5\n",
       "vertigo                          4\n",
       "Epigastric pain                  3\n",
       "pharyngotis                      3\n",
       "Ear Infection                    3\n",
       "Abdomen pain                     3\n",
       "old abbrassion                   2\n",
       "Knee pain                        2\n",
       "Worm infection                   2\n",
       "Systeric HTN                     2\n",
       "Burn                             2\n",
       "Low BP                           1\n",
       "Anaemia                          1\n",
       "Dehydration                      1\n",
       "Concentrated Urine               1\n",
       "GAD                              1\n",
       "Gastritis                        1\n",
       "Breathlessness                   1\n",
       "Hairfall                         1\n",
       "Ankle Twist                      1\n",
       "Vitamin Deficiency               1\n",
       "Asthama                          1\n",
       "pain wrist                       1\n",
       "watering of eye                  1\n",
       "acute torillitis                 1\n",
       "follicular torillitis            1\n",
       "Blood Clot                       1\n",
       "Jaundice                         1\n",
       "Rheumatic fever                  1\n",
       "dtype: int64"
      ]
     },
     "execution_count": 101,
     "metadata": {},
     "output_type": "execute_result"
    }
   ],
   "source": [
    "df.sum().sort_values(ascending=False)"
   ]
  },
  {
   "cell_type": "code",
   "execution_count": 102,
   "metadata": {},
   "outputs": [
    {
     "data": {
      "text/plain": [
       "<matplotlib.axes._subplots.AxesSubplot at 0x1ea77ca8fd0>"
      ]
     },
     "execution_count": 102,
     "metadata": {},
     "output_type": "execute_result"
    },
    {
     "data": {
      "image/png": "[encoded data removed]",
      "text/plain": [
       "<Figure size 432x288 with 1 Axes>"
      ]
     },
     "metadata": {
      "needs_background": "light"
     },
     "output_type": "display_data"
    }
   ],
   "source": [
    "df.plot(y='Cough/Cold')"
   ]
  },
  {
   "cell_type": "code",
   "execution_count": 103,
   "metadata": {},
   "outputs": [
    {
     "data": {
      "text/plain": [
       "<matplotlib.axes._subplots.AxesSubplot at 0x1ea77d76c18>"
      ]
     },
     "execution_count": 103,
     "metadata": {},
     "output_type": "execute_result"
    },
    {
     "data": {
      "image/png": "[encoded data removed]",
      "text/plain": [
       "<Figure size 432x288 with 1 Axes>"
      ]
     },
     "metadata": {
      "needs_background": "light"
     },
     "output_type": "display_data"
    }
   ],
   "source": [
    "df.plot(y='Fungal infection')"
   ]
  },
  {
   "cell_type": "code",
   "execution_count": 104,
   "metadata": {},
   "outputs": [],
   "source": [
    "data_indigestion=df['Indigestion']"
   ]
  },
  {
   "cell_type": "code",
   "execution_count": 105,
   "metadata": {},
   "outputs": [
    {
     "data": {
      "text/plain": [
       "Date\n",
       "2018-06-20    1\n",
       "2018-06-21    0\n",
       "2018-06-22    0\n",
       "2018-06-25    0\n",
       "2018-06-27    0\n",
       "Name: Indigestion, dtype: int64"
      ]
     },
     "execution_count": 105,
     "metadata": {},
     "output_type": "execute_result"
    }
   ],
   "source": [
    "data_indigestion.head()"
   ]
  },
  {
   "cell_type": "code",
   "execution_count": 106,
   "metadata": {},
   "outputs": [
    {
     "data": {
      "image/png": "[encoded data removed]",
      "text/plain": [
       "<Figure size 432x288 with 1 Axes>"
      ]
     },
     "execution_count": 106,
     "metadata": {},
     "output_type": "execute_result"
    },
    {
     "data": {
      "image/png": "[encoded data removed]",
      "text/plain": [
       "<Figure size 432x288 with 1 Axes>"
      ]
     },
     "metadata": {
      "needs_background": "light"
     },
     "output_type": "display_data"
    }
   ],
   "source": [
    "from statsmodels.graphics.tsaplots import plot_acf\n",
    "plot_acf(data_indigestion)"
   ]
  },
  {
   "cell_type": "code",
   "execution_count": 107,
   "metadata": {},
   "outputs": [
    {
     "data": {
      "image/png": "[encoded data removed]",
      "text/plain": [
       "<Figure size 432x288 with 1 Axes>"
      ]
     },
     "execution_count": 107,
     "metadata": {},
     "output_type": "execute_result"
    },
    {
     "data": {
      "image/png": "[encoded data removed]",
      "text/plain": [
       "<Figure size 432x288 with 1 Axes>"
      ]
     },
     "metadata": {
      "needs_background": "light"
     },
     "output_type": "display_data"
    }
   ],
   "source": [
    "from statsmodels.graphics.tsaplots import plot_pacf\n",
    "plot_pacf(data_indigestion)"
   ]
  },
  {
   "cell_type": "code",
   "execution_count": 108,
   "metadata": {},
   "outputs": [],
   "source": [
    "from statsmodels.tsa.arima_model import ARIMA"
   ]
  },
  {
   "cell_type": "code",
   "execution_count": 109,
   "metadata": {},
   "outputs": [],
   "source": [
    "data_indigestion.index = pd.DatetimeIndex(data_indigestion.index).to_period('D')"
   ]
  },
  {
   "cell_type": "code",
   "execution_count": null,
   "metadata": {},
   "outputs": [],
   "source": []
  },
  {
   "cell_type": "code",
   "execution_count": 110,
   "metadata": {},
   "outputs": [
    {
     "data": {
      "text/plain": [
       "Date\n",
       "2018-06-20    1\n",
       "2018-06-21    0\n",
       "2018-06-22    0\n",
       "2018-06-25    0\n",
       "2018-06-27    0\n",
       "Freq: D, Name: Indigestion, dtype: int64"
      ]
     },
     "execution_count": 110,
     "metadata": {},
     "output_type": "execute_result"
    }
   ],
   "source": [
    "data_indigestion.head()"
   ]
  },
  {
   "cell_type": "code",
   "execution_count": 111,
   "metadata": {},
   "outputs": [],
   "source": [
    "model=ARIMA(data_indigestion,order=(1,0,1))"
   ]
  },
  {
   "cell_type": "code",
   "execution_count": 112,
   "metadata": {},
   "outputs": [],
   "source": [
    "model_fit=model.fit(disp=0)"
   ]
  },
  {
   "cell_type": "code",
   "execution_count": 113,
   "metadata": {},
   "outputs": [
    {
     "data": {
      "text/html": [
       "<table class=\"simpletable\">\n",
       "<caption>ARMA Model Results</caption>\n",
       "<tr>\n",
       "  <th>Dep. Variable:</th>    <td>Indigestion</td>   <th>  No. Observations:  </th>    <td>122</td>  \n",
       "</tr>\n",
       "<tr>\n",
       "  <th>Model:</th>            <td>ARMA(1, 1)</td>    <th>  Log Likelihood     </th> <td>-177.088</td>\n",
       "</tr>\n",
       "<tr>\n",
       "  <th>Method:</th>             <td>css-mle</td>     <th>  S.D. of innovations</th>   <td>1.033</td> \n",
       "</tr>\n",
       "<tr>\n",
       "  <th>Date:</th>          <td>Wed, 11 Mar 2020</td> <th>  AIC                </th>  <td>362.177</td>\n",
       "</tr>\n",
       "<tr>\n",
       "  <th>Time:</th>              <td>16:28:28</td>     <th>  BIC                </th>  <td>373.393</td>\n",
       "</tr>\n",
       "<tr>\n",
       "  <th>Sample:</th>           <td>06-20-2018</td>    <th>  HQIC               </th>  <td>366.733</td>\n",
       "</tr>\n",
       "<tr>\n",
       "  <th></th>                 <td>- 12-31-2018</td>   <th>                     </th>     <td> </td>   \n",
       "</tr>\n",
       "</table>\n",
       "<table class=\"simpletable\">\n",
       "<tr>\n",
       "          <td></td>             <th>coef</th>     <th>std err</th>      <th>z</th>      <th>P>|z|</th>  <th>[0.025</th>    <th>0.975]</th>  \n",
       "</tr>\n",
       "<tr>\n",
       "  <th>const</th>             <td>    0.9321</td> <td>    0.139</td> <td>    6.683</td> <td> 0.000</td> <td>    0.659</td> <td>    1.206</td>\n",
       "</tr>\n",
       "<tr>\n",
       "  <th>ar.L1.Indigestion</th> <td>    0.5621</td> <td>    0.273</td> <td>    2.058</td> <td> 0.040</td> <td>    0.027</td> <td>    1.098</td>\n",
       "</tr>\n",
       "<tr>\n",
       "  <th>ma.L1.Indigestion</th> <td>   -0.3431</td> <td>    0.311</td> <td>   -1.105</td> <td> 0.269</td> <td>   -0.952</td> <td>    0.266</td>\n",
       "</tr>\n",
       "</table>\n",
       "<table class=\"simpletable\">\n",
       "<caption>Roots</caption>\n",
       "<tr>\n",
       "    <td></td>   <th>            Real</th>  <th>         Imaginary</th> <th>         Modulus</th>  <th>        Frequency</th>\n",
       "</tr>\n",
       "<tr>\n",
       "  <th>AR.1</th> <td>           1.7789</td> <td>          +0.0000j</td> <td>           1.7789</td> <td>           0.0000</td>\n",
       "</tr>\n",
       "<tr>\n",
       "  <th>MA.1</th> <td>           2.9149</td> <td>          +0.0000j</td> <td>           2.9149</td> <td>           0.0000</td>\n",
       "</tr>\n",
       "</table>"
      ],
      "text/plain": [
       "<class 'statsmodels.iolib.summary.Summary'>\n",
       "\"\"\"\n",
       "                              ARMA Model Results                              \n",
       "==============================================================================\n",
       "Dep. Variable:            Indigestion   No. Observations:                  122\n",
       "Model:                     ARMA(1, 1)   Log Likelihood                -177.088\n",
       "Method:                       css-mle   S.D. of innovations              1.033\n",
       "Date:                Wed, 11 Mar 2020   AIC                            362.177\n",
       "Time:                        16:28:28   BIC                            373.393\n",
       "Sample:                    06-20-2018   HQIC                           366.733\n",
       "                         - 12-31-2018                                         \n",
       "=====================================================================================\n",
       "                        coef    std err          z      P>|z|      [0.025      0.975]\n",
       "-------------------------------------------------------------------------------------\n",
       "const                 0.9321      0.139      6.683      0.000       0.659       1.206\n",
       "ar.L1.Indigestion     0.5621      0.273      2.058      0.040       0.027       1.098\n",
       "ma.L1.Indigestion    -0.3431      0.311     -1.105      0.269      -0.952       0.266\n",
       "                                    Roots                                    \n",
       "=============================================================================\n",
       "                  Real          Imaginary           Modulus         Frequency\n",
       "-----------------------------------------------------------------------------\n",
       "AR.1            1.7789           +0.0000j            1.7789            0.0000\n",
       "MA.1            2.9149           +0.0000j            2.9149            0.0000\n",
       "-----------------------------------------------------------------------------\n",
       "\"\"\""
      ]
     },
     "execution_count": 113,
     "metadata": {},
     "output_type": "execute_result"
    }
   ],
   "source": [
    "model_fit.summary()"
   ]
  },
  {
   "cell_type": "code",
   "execution_count": 114,
   "metadata": {},
   "outputs": [
    {
     "data": {
      "text/plain": [
       "(array([0.9022693]), array([1.03281994]), array([[-1.12202059,  2.92655919]]))"
      ]
     },
     "execution_count": 114,
     "metadata": {},
     "output_type": "execute_result"
    }
   ],
   "source": [
    "model_fit.forecast()"
   ]
  },
  {
   "cell_type": "code",
   "execution_count": null,
   "metadata": {},
   "outputs": [],
   "source": []
  }
 ],
 "metadata": {
  "kernelspec": {
   "display_name": "Python 3",
   "language": "python",
   "name": "python3"
  },
  "language_info": {
   "codemirror_mode": {
    "name": "ipython",
    "version": 3
   },
   "file_extension": ".py",
   "mimetype": "text/x-python",
   "name": "python",
   "nbconvert_exporter": "python",
   "pygments_lexer": "ipython3",
   "version": "3.6.8"
  }
 },
 "nbformat": 4,
 "nbformat_minor": 2
}
