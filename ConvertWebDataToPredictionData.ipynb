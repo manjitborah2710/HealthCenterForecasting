{
 "cells": [
  {
   "cell_type": "code",
   "execution_count": 12,
   "metadata": {},
   "outputs": [],
   "source": [
    "import pandas as pd"
   ]
  },
  {
   "cell_type": "code",
   "execution_count": 13,
   "metadata": {},
   "outputs": [
    {
     "data": {
      "text/html": [
       "<div>\n",
       "<style scoped>\n",
       "    .dataframe tbody tr th:only-of-type {\n",
       "        vertical-align: middle;\n",
       "    }\n",
       "\n",
       "    .dataframe tbody tr th {\n",
       "        vertical-align: top;\n",
       "    }\n",
       "\n",
       "    .dataframe thead th {\n",
       "        text-align: right;\n",
       "    }\n",
       "</style>\n",
       "<table border=\"1\" class=\"dataframe\">\n",
       "  <thead>\n",
       "    <tr style=\"text-align: right;\">\n",
       "      <th></th>\n",
       "      <th>Date</th>\n",
       "      <th>Diagnosis</th>\n",
       "    </tr>\n",
       "  </thead>\n",
       "  <tbody>\n",
       "    <tr>\n",
       "      <th>0</th>\n",
       "      <td>01-04-2019</td>\n",
       "      <td>URTI, Cold, Cough</td>\n",
       "    </tr>\n",
       "    <tr>\n",
       "      <th>1</th>\n",
       "      <td>01-04-2019</td>\n",
       "      <td>Fever, Cold</td>\n",
       "    </tr>\n",
       "    <tr>\n",
       "      <th>2</th>\n",
       "      <td>03-04-2019</td>\n",
       "      <td>Acidity, Indigestion</td>\n",
       "    </tr>\n",
       "    <tr>\n",
       "      <th>3</th>\n",
       "      <td>03-04-2019</td>\n",
       "      <td>URTI, Cold, Cough</td>\n",
       "    </tr>\n",
       "    <tr>\n",
       "      <th>4</th>\n",
       "      <td>03-04-2019</td>\n",
       "      <td>Acidity, Indigestion</td>\n",
       "    </tr>\n",
       "  </tbody>\n",
       "</table>\n",
       "</div>"
      ],
      "text/plain": [
       "         Date             Diagnosis\n",
       "0  01-04-2019     URTI, Cold, Cough\n",
       "1  01-04-2019           Fever, Cold\n",
       "2  03-04-2019  Acidity, Indigestion\n",
       "3  03-04-2019     URTI, Cold, Cough\n",
       "4  03-04-2019  Acidity, Indigestion"
      ]
     },
     "execution_count": 13,
     "metadata": {},
     "output_type": "execute_result"
    }
   ],
   "source": [
    "demo = pd.read_csv(\"DemoData.csv\")\n",
    "demo = demo.dropna()\n",
    "demo.head()"
   ]
  },
  {
   "cell_type": "code",
   "execution_count": 14,
   "metadata": {},
   "outputs": [
    {
     "data": {
      "text/plain": [
       "[['URTI', ' Cold', ' Cough'],\n",
       " ['Fever', ' Cold'],\n",
       " ['Acidity', ' Indigestion'],\n",
       " ['URTI', ' Cold', ' Cough'],\n",
       " ['Acidity', ' Indigestion'],\n",
       " ['Acidity'],\n",
       " ['Indigestion'],\n",
       " ['Cold'],\n",
       " ['Cough', ' Cold'],\n",
       " ['URTI'],\n",
       " ['Cold'],\n",
       " ['Fever'],\n",
       " ['Acidity'],\n",
       " ['Indigestion'],\n",
       " ['Acidity', ' Indigestion']]"
      ]
     },
     "execution_count": 14,
     "metadata": {},
     "output_type": "execute_result"
    }
   ],
   "source": [
    "diagnosis = []\n",
    "\n",
    "for d in demo['Diagnosis']:\n",
    "    temp = d.split(',')\n",
    "    diagnosis.append(temp)\n",
    "diagnosis"
   ]
  },
  {
   "cell_type": "code",
   "execution_count": 15,
   "metadata": {},
   "outputs": [
    {
     "data": {
      "text/plain": [
       "['01-04-2019',\n",
       " '01-04-2019',\n",
       " '03-04-2019',\n",
       " '03-04-2019',\n",
       " '03-04-2019',\n",
       " '06-04-2019',\n",
       " '07-04-2019',\n",
       " '10-04-2019',\n",
       " '10-04-2019',\n",
       " '11-04-2019',\n",
       " '11-04-2019',\n",
       " '15-04-2019',\n",
       " '15-04-2019',\n",
       " '15-04-2019',\n",
       " '15-04-2019']"
      ]
     },
     "execution_count": 15,
     "metadata": {},
     "output_type": "execute_result"
    }
   ],
   "source": [
    "date =[d for d in demo['Date']]\n",
    "date"
   ]
  },
  {
   "cell_type": "code",
   "execution_count": 16,
   "metadata": {},
   "outputs": [
    {
     "data": {
      "text/plain": [
       "defaultdict(list,\n",
       "            {'01-04-2019': ['URTI', 'Cold', 'Cough', 'Fever', 'Cold'],\n",
       "             '03-04-2019': ['Acidity',\n",
       "              'Indigestion',\n",
       "              'URTI',\n",
       "              'Cold',\n",
       "              'Cough',\n",
       "              'Acidity',\n",
       "              'Indigestion'],\n",
       "             '06-04-2019': ['Acidity'],\n",
       "             '07-04-2019': ['Indigestion'],\n",
       "             '10-04-2019': ['Cold', 'Cough', 'Cold'],\n",
       "             '11-04-2019': ['URTI', 'Cold'],\n",
       "             '15-04-2019': ['Fever',\n",
       "              'Acidity',\n",
       "              'Indigestion',\n",
       "              'Acidity',\n",
       "              'Indigestion']})"
      ]
     },
     "execution_count": 16,
     "metadata": {},
     "output_type": "execute_result"
    }
   ],
   "source": [
    "from collections import defaultdict\n",
    "data = defaultdict(list)\n",
    "for i,key in enumerate(date):\n",
    "    for d in diagnosis[i]:\n",
    "        data[key].append(d.strip())\n",
    "data"
   ]
  },
  {
   "cell_type": "code",
   "execution_count": 17,
   "metadata": {},
   "outputs": [
    {
     "name": "stdout",
     "output_type": "stream",
     "text": [
      "['01-04-2019', '03-04-2019', '06-04-2019', '07-04-2019', '10-04-2019', '11-04-2019', '15-04-2019'] ['Acidity', 'Indigestion', 'Cough', 'URTI', 'Cold', 'Fever']\n"
     ]
    }
   ],
   "source": [
    "unique_diagnosis = set()\n",
    "for i in diagnosis:\n",
    "    for j in i:\n",
    "        unique_diagnosis.add(j.strip())\n",
    "unique_diagnosis = list(unique_diagnosis)\n",
    "unique_date = sorted(list(set(date)))\n",
    "\n",
    "print(unique_date, unique_diagnosis)"
   ]
  },
  {
   "cell_type": "code",
   "execution_count": 19,
   "metadata": {},
   "outputs": [
    {
     "data": {
      "text/plain": [
       "[[0, 2, 1, 0, 0, 0, 2],\n",
       " [0, 2, 0, 1, 0, 0, 2],\n",
       " [1, 1, 0, 0, 1, 0, 0],\n",
       " [1, 1, 0, 0, 0, 1, 0],\n",
       " [2, 1, 0, 0, 2, 1, 0],\n",
       " [1, 0, 0, 0, 0, 0, 1]]"
      ]
     },
     "execution_count": 19,
     "metadata": {},
     "output_type": "execute_result"
    }
   ],
   "source": [
    "diag_list = []\n",
    "for dia in unique_diagnosis:\n",
    "    disease_count = []\n",
    "    for day in unique_date:\n",
    "        disease_count.append(data[day].count(dia))\n",
    "    diag_list.append(disease_count)\n",
    "diag_list"
   ]
  },
  {
   "cell_type": "code",
   "execution_count": 20,
   "metadata": {},
   "outputs": [
    {
     "data": {
      "text/plain": [
       "{'Acidity': [0, 2, 1, 0, 0, 0, 2],\n",
       " 'Indigestion': [0, 2, 0, 1, 0, 0, 2],\n",
       " 'Cough': [1, 1, 0, 0, 1, 0, 0],\n",
       " 'URTI': [1, 1, 0, 0, 0, 1, 0],\n",
       " 'Cold': [2, 1, 0, 0, 2, 1, 0],\n",
       " 'Fever': [1, 0, 0, 0, 0, 0, 1]}"
      ]
     },
     "execution_count": 20,
     "metadata": {},
     "output_type": "execute_result"
    }
   ],
   "source": [
    "diagnosis_data = dict(zip(unique_diagnosis, diag_list))\n",
    "diagnosis_data"
   ]
  },
  {
   "cell_type": "code",
   "execution_count": 22,
   "metadata": {},
   "outputs": [
    {
     "data": {
      "text/plain": [
       "{'Date': [datetime.datetime(2019, 4, 1, 0, 0),\n",
       "  datetime.datetime(2019, 4, 3, 0, 0),\n",
       "  datetime.datetime(2019, 4, 6, 0, 0),\n",
       "  datetime.datetime(2019, 4, 7, 0, 0),\n",
       "  datetime.datetime(2019, 4, 10, 0, 0),\n",
       "  datetime.datetime(2019, 4, 11, 0, 0),\n",
       "  datetime.datetime(2019, 4, 15, 0, 0)]}"
      ]
     },
     "execution_count": 22,
     "metadata": {},
     "output_type": "execute_result"
    }
   ],
   "source": [
    "from pandas import datetime\n",
    "\n",
    "for i,val in enumerate(unique_date):\n",
    "    unique_date[i] = datetime.strptime(val,'%d-%m-%Y')\n",
    "date_dict = {\n",
    "    'Date': unique_date\n",
    "}\n",
    "date_dict"
   ]
  },
  {
   "cell_type": "code",
   "execution_count": 24,
   "metadata": {},
   "outputs": [
    {
     "data": {
      "text/plain": [
       "{'Date': [datetime.datetime(2019, 4, 1, 0, 0),\n",
       "  datetime.datetime(2019, 4, 3, 0, 0),\n",
       "  datetime.datetime(2019, 4, 6, 0, 0),\n",
       "  datetime.datetime(2019, 4, 7, 0, 0),\n",
       "  datetime.datetime(2019, 4, 10, 0, 0),\n",
       "  datetime.datetime(2019, 4, 11, 0, 0),\n",
       "  datetime.datetime(2019, 4, 15, 0, 0)],\n",
       " 'Acidity': [0, 2, 1, 0, 0, 0, 2],\n",
       " 'Indigestion': [0, 2, 0, 1, 0, 0, 2],\n",
       " 'Cough': [1, 1, 0, 0, 1, 0, 0],\n",
       " 'URTI': [1, 1, 0, 0, 0, 1, 0],\n",
       " 'Cold': [2, 1, 0, 0, 2, 1, 0],\n",
       " 'Fever': [1, 0, 0, 0, 0, 0, 1]}"
      ]
     },
     "execution_count": 24,
     "metadata": {},
     "output_type": "execute_result"
    }
   ],
   "source": [
    "data_csv = {**date_dict,**diagnosis_data}\n",
    "data_csv"
   ]
  },
  {
   "cell_type": "code",
   "execution_count": 24,
   "metadata": {},
   "outputs": [
    {
     "data": {
      "text/plain": [
       "{'Date': [datetime.datetime(2019, 4, 1, 0, 0),\n",
       "  datetime.datetime(2019, 4, 3, 0, 0),\n",
       "  datetime.datetime(2019, 4, 6, 0, 0),\n",
       "  datetime.datetime(2019, 4, 7, 0, 0),\n",
       "  datetime.datetime(2019, 4, 10, 0, 0),\n",
       "  datetime.datetime(2019, 4, 11, 0, 0),\n",
       "  datetime.datetime(2019, 4, 15, 0, 0)],\n",
       " 'Acidity': [0, 2, 1, 0, 0, 0, 2],\n",
       " 'Indigestion': [0, 2, 0, 1, 0, 0, 2],\n",
       " 'Cough': [1, 1, 0, 0, 1, 0, 0],\n",
       " 'URTI': [1, 1, 0, 0, 0, 1, 0],\n",
       " 'Cold': [2, 1, 0, 0, 2, 1, 0],\n",
       " 'Fever': [1, 0, 0, 0, 0, 0, 1]}"
      ]
     },
     "execution_count": 24,
     "metadata": {},
     "output_type": "execute_result"
    }
   ],
   "source": [
    "data_csv = {**date_dict,**diagnosis_data}\n",
    "data_csv"
   ]
  },
  {
   "cell_type": "code",
   "execution_count": 25,
   "metadata": {},
   "outputs": [
    {
     "data": {
      "text/html": [
       "<div>\n",
       "<style scoped>\n",
       "    .dataframe tbody tr th:only-of-type {\n",
       "        vertical-align: middle;\n",
       "    }\n",
       "\n",
       "    .dataframe tbody tr th {\n",
       "        vertical-align: top;\n",
       "    }\n",
       "\n",
       "    .dataframe thead th {\n",
       "        text-align: right;\n",
       "    }\n",
       "</style>\n",
       "<table border=\"1\" class=\"dataframe\">\n",
       "  <thead>\n",
       "    <tr style=\"text-align: right;\">\n",
       "      <th></th>\n",
       "      <th>Date</th>\n",
       "      <th>Acidity</th>\n",
       "      <th>Indigestion</th>\n",
       "      <th>Cough</th>\n",
       "      <th>URTI</th>\n",
       "      <th>Cold</th>\n",
       "      <th>Fever</th>\n",
       "    </tr>\n",
       "  </thead>\n",
       "  <tbody>\n",
       "    <tr>\n",
       "      <th>0</th>\n",
       "      <td>2019-04-01</td>\n",
       "      <td>0</td>\n",
       "      <td>0</td>\n",
       "      <td>1</td>\n",
       "      <td>1</td>\n",
       "      <td>2</td>\n",
       "      <td>1</td>\n",
       "    </tr>\n",
       "    <tr>\n",
       "      <th>1</th>\n",
       "      <td>2019-04-03</td>\n",
       "      <td>2</td>\n",
       "      <td>2</td>\n",
       "      <td>1</td>\n",
       "      <td>1</td>\n",
       "      <td>1</td>\n",
       "      <td>0</td>\n",
       "    </tr>\n",
       "    <tr>\n",
       "      <th>2</th>\n",
       "      <td>2019-04-06</td>\n",
       "      <td>1</td>\n",
       "      <td>0</td>\n",
       "      <td>0</td>\n",
       "      <td>0</td>\n",
       "      <td>0</td>\n",
       "      <td>0</td>\n",
       "    </tr>\n",
       "    <tr>\n",
       "      <th>3</th>\n",
       "      <td>2019-04-07</td>\n",
       "      <td>0</td>\n",
       "      <td>1</td>\n",
       "      <td>0</td>\n",
       "      <td>0</td>\n",
       "      <td>0</td>\n",
       "      <td>0</td>\n",
       "    </tr>\n",
       "    <tr>\n",
       "      <th>4</th>\n",
       "      <td>2019-04-10</td>\n",
       "      <td>0</td>\n",
       "      <td>0</td>\n",
       "      <td>1</td>\n",
       "      <td>0</td>\n",
       "      <td>2</td>\n",
       "      <td>0</td>\n",
       "    </tr>\n",
       "    <tr>\n",
       "      <th>5</th>\n",
       "      <td>2019-04-11</td>\n",
       "      <td>0</td>\n",
       "      <td>0</td>\n",
       "      <td>0</td>\n",
       "      <td>1</td>\n",
       "      <td>1</td>\n",
       "      <td>0</td>\n",
       "    </tr>\n",
       "    <tr>\n",
       "      <th>6</th>\n",
       "      <td>2019-04-15</td>\n",
       "      <td>2</td>\n",
       "      <td>2</td>\n",
       "      <td>0</td>\n",
       "      <td>0</td>\n",
       "      <td>0</td>\n",
       "      <td>1</td>\n",
       "    </tr>\n",
       "  </tbody>\n",
       "</table>\n",
       "</div>"
      ],
      "text/plain": [
       "        Date  Acidity  Indigestion  Cough  URTI  Cold  Fever\n",
       "0 2019-04-01        0            0      1     1     2      1\n",
       "1 2019-04-03        2            2      1     1     1      0\n",
       "2 2019-04-06        1            0      0     0     0      0\n",
       "3 2019-04-07        0            1      0     0     0      0\n",
       "4 2019-04-10        0            0      1     0     2      0\n",
       "5 2019-04-11        0            0      0     1     1      0\n",
       "6 2019-04-15        2            2      0     0     0      1"
      ]
     },
     "execution_count": 25,
     "metadata": {},
     "output_type": "execute_result"
    }
   ],
   "source": [
    "df = pd.DataFrame(data_csv)\n",
    "df"
   ]
  },
  {
   "cell_type": "code",
   "execution_count": null,
   "metadata": {},
   "outputs": [],
   "source": []
  }
 ],
 "metadata": {
  "kernelspec": {
   "display_name": "Python 3",
   "language": "python",
   "name": "python3"
  },
  "language_info": {
   "codemirror_mode": {
    "name": "ipython",
    "version": 3
   },
   "file_extension": ".py",
   "mimetype": "text/x-python",
   "name": "python",
   "nbconvert_exporter": "python",
   "pygments_lexer": "ipython3",
   "version": "3.6.9"
  }
 },
 "nbformat": 4,
 "nbformat_minor": 2
}
