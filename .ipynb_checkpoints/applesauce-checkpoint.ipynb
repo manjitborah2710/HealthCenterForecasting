{
 "cells": [
  {
   "cell_type": "code",
   "execution_count": 12,
   "metadata": {},
   "outputs": [],
   "source": [
    "import pandas as pd\n",
    "from pandas import datetime"
   ]
  },
  {
   "cell_type": "code",
   "execution_count": 13,
   "metadata": {},
   "outputs": [],
   "source": [
    "def parser(x):\n",
    "    return datetime.strptime(x,'%d-%m-%Y')"
   ]
  },
  {
   "cell_type": "code",
   "execution_count": 14,
   "metadata": {},
   "outputs": [],
   "source": [
    "df=pd.read_csv('data.csv',index_col=0,date_parser=parser,parse_dates=[0])"
   ]
  },
  {
   "cell_type": "code",
   "execution_count": 15,
   "metadata": {},
   "outputs": [
    {
     "data": {
      "text/html": [
       "<div>\n",
       "<style scoped>\n",
       "    .dataframe tbody tr th:only-of-type {\n",
       "        vertical-align: middle;\n",
       "    }\n",
       "\n",
       "    .dataframe tbody tr th {\n",
       "        vertical-align: top;\n",
       "    }\n",
       "\n",
       "    .dataframe thead th {\n",
       "        text-align: right;\n",
       "    }\n",
       "</style>\n",
       "<table border=\"1\" class=\"dataframe\">\n",
       "  <thead>\n",
       "    <tr style=\"text-align: right;\">\n",
       "      <th></th>\n",
       "      <th>Acidity</th>\n",
       "      <th>Urti</th>\n",
       "      <th>Indigestion</th>\n",
       "      <th>Hypertension</th>\n",
       "      <th>Dehydration</th>\n",
       "      <th>Low BP</th>\n",
       "      <th>Oral ulcer</th>\n",
       "      <th>Anaemia</th>\n",
       "      <th>old abbrassion</th>\n",
       "      <th>Fungal infection</th>\n",
       "      <th>...</th>\n",
       "      <th>Dysentary</th>\n",
       "      <th>Systeric HTN</th>\n",
       "      <th>acute torillitis</th>\n",
       "      <th>follicular torillitis</th>\n",
       "      <th>Burn</th>\n",
       "      <th>Lethargy</th>\n",
       "      <th>Blood Clot</th>\n",
       "      <th>Jaundice</th>\n",
       "      <th>Ankle Twist</th>\n",
       "      <th>Concentrated Urine</th>\n",
       "    </tr>\n",
       "    <tr>\n",
       "      <th>Date</th>\n",
       "      <th></th>\n",
       "      <th></th>\n",
       "      <th></th>\n",
       "      <th></th>\n",
       "      <th></th>\n",
       "      <th></th>\n",
       "      <th></th>\n",
       "      <th></th>\n",
       "      <th></th>\n",
       "      <th></th>\n",
       "      <th></th>\n",
       "      <th></th>\n",
       "      <th></th>\n",
       "      <th></th>\n",
       "      <th></th>\n",
       "      <th></th>\n",
       "      <th></th>\n",
       "      <th></th>\n",
       "      <th></th>\n",
       "      <th></th>\n",
       "      <th></th>\n",
       "    </tr>\n",
       "  </thead>\n",
       "  <tbody>\n",
       "    <tr>\n",
       "      <th>2018-12-22</th>\n",
       "      <td>0</td>\n",
       "      <td>1</td>\n",
       "      <td>0</td>\n",
       "      <td>0</td>\n",
       "      <td>0</td>\n",
       "      <td>0</td>\n",
       "      <td>0</td>\n",
       "      <td>0</td>\n",
       "      <td>0</td>\n",
       "      <td>0</td>\n",
       "      <td>...</td>\n",
       "      <td>0</td>\n",
       "      <td>0</td>\n",
       "      <td>0</td>\n",
       "      <td>0</td>\n",
       "      <td>0</td>\n",
       "      <td>0</td>\n",
       "      <td>0</td>\n",
       "      <td>0</td>\n",
       "      <td>0</td>\n",
       "      <td>0</td>\n",
       "    </tr>\n",
       "    <tr>\n",
       "      <th>2018-12-24</th>\n",
       "      <td>1</td>\n",
       "      <td>3</td>\n",
       "      <td>1</td>\n",
       "      <td>0</td>\n",
       "      <td>0</td>\n",
       "      <td>0</td>\n",
       "      <td>0</td>\n",
       "      <td>0</td>\n",
       "      <td>0</td>\n",
       "      <td>0</td>\n",
       "      <td>...</td>\n",
       "      <td>0</td>\n",
       "      <td>0</td>\n",
       "      <td>0</td>\n",
       "      <td>0</td>\n",
       "      <td>0</td>\n",
       "      <td>0</td>\n",
       "      <td>0</td>\n",
       "      <td>0</td>\n",
       "      <td>0</td>\n",
       "      <td>0</td>\n",
       "    </tr>\n",
       "    <tr>\n",
       "      <th>2018-12-27</th>\n",
       "      <td>2</td>\n",
       "      <td>1</td>\n",
       "      <td>2</td>\n",
       "      <td>0</td>\n",
       "      <td>0</td>\n",
       "      <td>0</td>\n",
       "      <td>0</td>\n",
       "      <td>0</td>\n",
       "      <td>0</td>\n",
       "      <td>0</td>\n",
       "      <td>...</td>\n",
       "      <td>0</td>\n",
       "      <td>0</td>\n",
       "      <td>0</td>\n",
       "      <td>0</td>\n",
       "      <td>0</td>\n",
       "      <td>0</td>\n",
       "      <td>0</td>\n",
       "      <td>0</td>\n",
       "      <td>0</td>\n",
       "      <td>0</td>\n",
       "    </tr>\n",
       "    <tr>\n",
       "      <th>2018-12-29</th>\n",
       "      <td>0</td>\n",
       "      <td>0</td>\n",
       "      <td>0</td>\n",
       "      <td>0</td>\n",
       "      <td>0</td>\n",
       "      <td>0</td>\n",
       "      <td>0</td>\n",
       "      <td>0</td>\n",
       "      <td>0</td>\n",
       "      <td>0</td>\n",
       "      <td>...</td>\n",
       "      <td>0</td>\n",
       "      <td>0</td>\n",
       "      <td>0</td>\n",
       "      <td>0</td>\n",
       "      <td>0</td>\n",
       "      <td>0</td>\n",
       "      <td>0</td>\n",
       "      <td>0</td>\n",
       "      <td>0</td>\n",
       "      <td>0</td>\n",
       "    </tr>\n",
       "    <tr>\n",
       "      <th>2018-12-31</th>\n",
       "      <td>1</td>\n",
       "      <td>3</td>\n",
       "      <td>1</td>\n",
       "      <td>0</td>\n",
       "      <td>0</td>\n",
       "      <td>0</td>\n",
       "      <td>0</td>\n",
       "      <td>0</td>\n",
       "      <td>0</td>\n",
       "      <td>0</td>\n",
       "      <td>...</td>\n",
       "      <td>0</td>\n",
       "      <td>0</td>\n",
       "      <td>0</td>\n",
       "      <td>0</td>\n",
       "      <td>0</td>\n",
       "      <td>0</td>\n",
       "      <td>0</td>\n",
       "      <td>0</td>\n",
       "      <td>0</td>\n",
       "      <td>0</td>\n",
       "    </tr>\n",
       "  </tbody>\n",
       "</table>\n",
       "<p>5 rows × 56 columns</p>\n",
       "</div>"
      ],
      "text/plain": [
       "            Acidity  Urti  Indigestion  Hypertension  Dehydration  Low BP  \\\n",
       "Date                                                                        \n",
       "2018-12-22        0     1            0             0            0       0   \n",
       "2018-12-24        1     3            1             0            0       0   \n",
       "2018-12-27        2     1            2             0            0       0   \n",
       "2018-12-29        0     0            0             0            0       0   \n",
       "2018-12-31        1     3            1             0            0       0   \n",
       "\n",
       "            Oral ulcer  Anaemia  old abbrassion  Fungal infection  ...  \\\n",
       "Date                                                               ...   \n",
       "2018-12-22           0        0               0                 0  ...   \n",
       "2018-12-24           0        0               0                 0  ...   \n",
       "2018-12-27           0        0               0                 0  ...   \n",
       "2018-12-29           0        0               0                 0  ...   \n",
       "2018-12-31           0        0               0                 0  ...   \n",
       "\n",
       "            Dysentary  Systeric HTN  acute torillitis  \\\n",
       "Date                                                    \n",
       "2018-12-22          0             0                 0   \n",
       "2018-12-24          0             0                 0   \n",
       "2018-12-27          0             0                 0   \n",
       "2018-12-29          0             0                 0   \n",
       "2018-12-31          0             0                 0   \n",
       "\n",
       "            follicular torillitis        Burn  Lethargy  Blood Clot  Jaundice  \\\n",
       "Date                                                                            \n",
       "2018-12-22                            0     0         0           0         0   \n",
       "2018-12-24                            0     0         0           0         0   \n",
       "2018-12-27                            0     0         0           0         0   \n",
       "2018-12-29                            0     0         0           0         0   \n",
       "2018-12-31                            0     0         0           0         0   \n",
       "\n",
       "            Ankle Twist  Concentrated Urine  \n",
       "Date                                         \n",
       "2018-12-22            0                   0  \n",
       "2018-12-24            0                   0  \n",
       "2018-12-27            0                   0  \n",
       "2018-12-29            0                   0  \n",
       "2018-12-31            0                   0  \n",
       "\n",
       "[5 rows x 56 columns]"
      ]
     },
     "execution_count": 15,
     "metadata": {},
     "output_type": "execute_result"
    }
   ],
   "source": [
    "df.tail()"
   ]
  },
  {
   "cell_type": "code",
   "execution_count": 16,
   "metadata": {},
   "outputs": [],
   "source": [
    "sorted_data=df.sum().sort_values(ascending=False)"
   ]
  },
  {
   "cell_type": "code",
   "execution_count": 17,
   "metadata": {},
   "outputs": [
    {
     "data": {
      "text/plain": [
       "Index(['Urti', 'Cough_Cold', 'Acidity', 'Indigestion', 'Fungal infection',\n",
       "       'Fever', 'Itching', 'Oral ulcer', 'injury/cut', 'Headache',\n",
       "       'General weakness', 'Back pain', 'Running nose', 'Ring worm',\n",
       "       'Lethargy', 'Diarrhoea', 'Swelling', 'Giddiness', 'Dysentary',\n",
       "       'allergy', 'Myalgia', 'Throat pain', 'Vomitting', 'Loss of appetite',\n",
       "       'APD', 'foot pain', 'Hypertension', 'LRTI', 'vertigo',\n",
       "       'Epigastric pain', 'pharyngotis', 'Ear Infection', 'Abdomen pain',\n",
       "       'old abbrassion', 'Knee pain', 'Worm infection', 'Systeric HTN', 'Burn',\n",
       "       'Low BP', 'Anaemia', 'Dehydration', 'Concentrated Urine', 'GAD',\n",
       "       'Gastritis', 'Breathlessness', 'Hairfall', 'Ankle Twist',\n",
       "       'Vitamin Deficiency', 'Asthama', 'pain wrist', 'watering of eye',\n",
       "       'acute torillitis', 'follicular torillitis      ', 'Blood Clot',\n",
       "       'Jaundice', 'Rheumatic fever'],\n",
       "      dtype='object')"
      ]
     },
     "execution_count": 17,
     "metadata": {},
     "output_type": "execute_result"
    }
   ],
   "source": [
    "sorted_data.index"
   ]
  },
  {
   "cell_type": "code",
   "execution_count": 8,
   "metadata": {},
   "outputs": [],
   "source": [
    "cols_to_extract=[sorted_data.index[i] for i in range(5)]"
   ]
  },
  {
   "cell_type": "code",
   "execution_count": 9,
   "metadata": {},
   "outputs": [
    {
     "data": {
      "text/plain": [
       "['Urti', 'Cough_Cold', 'Acidity', 'Indigestion', 'Fungal infection']"
      ]
     },
     "execution_count": 9,
     "metadata": {},
     "output_type": "execute_result"
    }
   ],
   "source": [
    "cols_to_extract"
   ]
  },
  {
   "cell_type": "code",
   "execution_count": 26,
   "metadata": {},
   "outputs": [
    {
     "data": {
      "text/plain": [
       "DatetimeIndex(['2018-06-20', '2018-06-21', '2018-06-22', '2018-06-23',\n",
       "               '2018-06-24', '2018-06-25', '2018-06-26', '2018-06-27',\n",
       "               '2018-06-28', '2018-06-29',\n",
       "               ...\n",
       "               '2018-12-22', '2018-12-23', '2018-12-24', '2018-12-25',\n",
       "               '2018-12-26', '2018-12-27', '2018-12-28', '2018-12-29',\n",
       "               '2018-12-30', '2018-12-31'],\n",
       "              dtype='datetime64[ns]', name='Date', length=195, freq='D')"
      ]
     },
     "execution_count": 26,
     "metadata": {},
     "output_type": "execute_result"
    }
   ],
   "source": [
    "idx = pd.date_range('2018-06-20', '2018-12-31', name=\"Date\")\n",
    "idx"
   ]
  },
  {
   "cell_type": "code",
   "execution_count": 27,
   "metadata": {},
   "outputs": [],
   "source": [
    "for i in cols_to_extract:\n",
    "    d_temp=df[i]\n",
    "    d_temp.index = pd.DatetimeIndex(d_temp.index)\n",
    "    d_temp = d_temp.reindex(idx, fill_value=0)\n",
    "    d_temp.to_frame().to_csv('individual disease data/'+i+\".csv\")"
   ]
  },
  {
   "cell_type": "code",
   "execution_count": 28,
   "metadata": {},
   "outputs": [
    {
     "data": {
      "text/plain": [
       "Date\n",
       "2018-06-20    0\n",
       "2018-06-21    0\n",
       "2018-06-22    1\n",
       "2018-06-23    0\n",
       "2018-06-24    0\n",
       "             ..\n",
       "2018-12-27    0\n",
       "2018-12-28    0\n",
       "2018-12-29    0\n",
       "2018-12-30    0\n",
       "2018-12-31    0\n",
       "Freq: D, Name: Fungal infection, Length: 195, dtype: int64"
      ]
     },
     "execution_count": 28,
     "metadata": {},
     "output_type": "execute_result"
    }
   ],
   "source": [
    "d_temp"
   ]
  },
  {
   "cell_type": "code",
   "execution_count": 23,
   "metadata": {},
   "outputs": [
    {
     "data": {
      "text/plain": [
       "pandas.core.series.Series"
      ]
     },
     "execution_count": 23,
     "metadata": {},
     "output_type": "execute_result"
    }
   ],
   "source": [
    "type(d_temp)"
   ]
  },
  {
   "cell_type": "code",
   "execution_count": null,
   "metadata": {},
   "outputs": [],
   "source": []
  }
 ],
 "metadata": {
  "kernelspec": {
   "display_name": "Python 3",
   "language": "python",
   "name": "python3"
  },
  "language_info": {
   "codemirror_mode": {
    "name": "ipython",
    "version": 3
   },
   "file_extension": ".py",
   "mimetype": "text/x-python",
   "name": "python",
   "nbconvert_exporter": "python",
   "pygments_lexer": "ipython3",
   "version": "3.7.4"
  }
 },
 "nbformat": 4,
 "nbformat_minor": 2
}
