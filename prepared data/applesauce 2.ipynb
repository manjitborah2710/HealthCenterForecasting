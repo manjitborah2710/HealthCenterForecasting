{
 "cells": [
  {
   "cell_type": "code",
   "execution_count": 20,
   "metadata": {},
   "outputs": [],
   "source": [
    "import pandas as pd\n",
    "from pandas import datetime"
   ]
  },
  {
   "cell_type": "code",
   "execution_count": 21,
   "metadata": {},
   "outputs": [],
   "source": [
    "def parser(x):\n",
    "    return datetime.strptime(x,'%d-%m-%Y')"
   ]
  },
  {
   "cell_type": "code",
   "execution_count": 22,
   "metadata": {},
   "outputs": [],
   "source": [
    "df=pd.read_csv('DATES_FILLED_jun18-jun19.csv',index_col=0,date_parser=parser,parse_dates=[0])"
   ]
  },
  {
   "cell_type": "code",
   "execution_count": 23,
   "metadata": {},
   "outputs": [
    {
     "data": {
      "text/html": [
       "<div>\n",
       "<style scoped>\n",
       "    .dataframe tbody tr th:only-of-type {\n",
       "        vertical-align: middle;\n",
       "    }\n",
       "\n",
       "    .dataframe tbody tr th {\n",
       "        vertical-align: top;\n",
       "    }\n",
       "\n",
       "    .dataframe thead th {\n",
       "        text-align: right;\n",
       "    }\n",
       "</style>\n",
       "<table border=\"1\" class=\"dataframe\">\n",
       "  <thead>\n",
       "    <tr style=\"text-align: right;\">\n",
       "      <th></th>\n",
       "      <th>Acidity</th>\n",
       "      <th>Urti</th>\n",
       "      <th>Indigestion</th>\n",
       "      <th>Hypertension</th>\n",
       "      <th>Dehydration</th>\n",
       "      <th>Low BP</th>\n",
       "      <th>Oral ulcer</th>\n",
       "      <th>Anaemia</th>\n",
       "      <th>old abbrassion</th>\n",
       "      <th>Fungal infection</th>\n",
       "      <th>...</th>\n",
       "      <th>Blood Clot</th>\n",
       "      <th>Jaundice</th>\n",
       "      <th>Ankle Twist</th>\n",
       "      <th>Concentrated Urine</th>\n",
       "      <th>Pain</th>\n",
       "      <th>Boil</th>\n",
       "      <th>Loose Stool</th>\n",
       "      <th>Constipation</th>\n",
       "      <th>Dizziness</th>\n",
       "      <th>Sinusitis</th>\n",
       "    </tr>\n",
       "    <tr>\n",
       "      <th>Date</th>\n",
       "      <th></th>\n",
       "      <th></th>\n",
       "      <th></th>\n",
       "      <th></th>\n",
       "      <th></th>\n",
       "      <th></th>\n",
       "      <th></th>\n",
       "      <th></th>\n",
       "      <th></th>\n",
       "      <th></th>\n",
       "      <th></th>\n",
       "      <th></th>\n",
       "      <th></th>\n",
       "      <th></th>\n",
       "      <th></th>\n",
       "      <th></th>\n",
       "      <th></th>\n",
       "      <th></th>\n",
       "      <th></th>\n",
       "      <th></th>\n",
       "      <th></th>\n",
       "    </tr>\n",
       "  </thead>\n",
       "  <tbody>\n",
       "    <tr>\n",
       "      <th>2019-06-26</th>\n",
       "      <td>0</td>\n",
       "      <td>0</td>\n",
       "      <td>0</td>\n",
       "      <td>0</td>\n",
       "      <td>0</td>\n",
       "      <td>0</td>\n",
       "      <td>0</td>\n",
       "      <td>0</td>\n",
       "      <td>0</td>\n",
       "      <td>0</td>\n",
       "      <td>...</td>\n",
       "      <td>0</td>\n",
       "      <td>0</td>\n",
       "      <td>0</td>\n",
       "      <td>0</td>\n",
       "      <td>0</td>\n",
       "      <td>0</td>\n",
       "      <td>0</td>\n",
       "      <td>0</td>\n",
       "      <td>0</td>\n",
       "      <td>0</td>\n",
       "    </tr>\n",
       "    <tr>\n",
       "      <th>2019-06-27</th>\n",
       "      <td>0</td>\n",
       "      <td>2</td>\n",
       "      <td>0</td>\n",
       "      <td>0</td>\n",
       "      <td>0</td>\n",
       "      <td>0</td>\n",
       "      <td>0</td>\n",
       "      <td>0</td>\n",
       "      <td>0</td>\n",
       "      <td>0</td>\n",
       "      <td>...</td>\n",
       "      <td>0</td>\n",
       "      <td>0</td>\n",
       "      <td>0</td>\n",
       "      <td>0</td>\n",
       "      <td>0</td>\n",
       "      <td>0</td>\n",
       "      <td>0</td>\n",
       "      <td>0</td>\n",
       "      <td>0</td>\n",
       "      <td>0</td>\n",
       "    </tr>\n",
       "    <tr>\n",
       "      <th>2019-06-28</th>\n",
       "      <td>0</td>\n",
       "      <td>1</td>\n",
       "      <td>0</td>\n",
       "      <td>0</td>\n",
       "      <td>0</td>\n",
       "      <td>0</td>\n",
       "      <td>0</td>\n",
       "      <td>0</td>\n",
       "      <td>0</td>\n",
       "      <td>0</td>\n",
       "      <td>...</td>\n",
       "      <td>0</td>\n",
       "      <td>0</td>\n",
       "      <td>0</td>\n",
       "      <td>0</td>\n",
       "      <td>0</td>\n",
       "      <td>0</td>\n",
       "      <td>0</td>\n",
       "      <td>0</td>\n",
       "      <td>0</td>\n",
       "      <td>0</td>\n",
       "    </tr>\n",
       "    <tr>\n",
       "      <th>2019-06-29</th>\n",
       "      <td>0</td>\n",
       "      <td>0</td>\n",
       "      <td>0</td>\n",
       "      <td>0</td>\n",
       "      <td>0</td>\n",
       "      <td>0</td>\n",
       "      <td>0</td>\n",
       "      <td>0</td>\n",
       "      <td>0</td>\n",
       "      <td>0</td>\n",
       "      <td>...</td>\n",
       "      <td>0</td>\n",
       "      <td>0</td>\n",
       "      <td>0</td>\n",
       "      <td>0</td>\n",
       "      <td>0</td>\n",
       "      <td>0</td>\n",
       "      <td>0</td>\n",
       "      <td>0</td>\n",
       "      <td>0</td>\n",
       "      <td>0</td>\n",
       "    </tr>\n",
       "    <tr>\n",
       "      <th>2019-06-30</th>\n",
       "      <td>0</td>\n",
       "      <td>0</td>\n",
       "      <td>0</td>\n",
       "      <td>0</td>\n",
       "      <td>0</td>\n",
       "      <td>0</td>\n",
       "      <td>0</td>\n",
       "      <td>0</td>\n",
       "      <td>0</td>\n",
       "      <td>0</td>\n",
       "      <td>...</td>\n",
       "      <td>0</td>\n",
       "      <td>0</td>\n",
       "      <td>0</td>\n",
       "      <td>0</td>\n",
       "      <td>0</td>\n",
       "      <td>0</td>\n",
       "      <td>0</td>\n",
       "      <td>0</td>\n",
       "      <td>0</td>\n",
       "      <td>0</td>\n",
       "    </tr>\n",
       "  </tbody>\n",
       "</table>\n",
       "<p>5 rows × 64 columns</p>\n",
       "</div>"
      ],
      "text/plain": [
       "            Acidity  Urti  Indigestion  Hypertension  Dehydration  Low BP  \\\n",
       "Date                                                                        \n",
       "2019-06-26        0     0            0             0            0       0   \n",
       "2019-06-27        0     2            0             0            0       0   \n",
       "2019-06-28        0     1            0             0            0       0   \n",
       "2019-06-29        0     0            0             0            0       0   \n",
       "2019-06-30        0     0            0             0            0       0   \n",
       "\n",
       "            Oral ulcer  Anaemia  old abbrassion  Fungal infection  ...  \\\n",
       "Date                                                               ...   \n",
       "2019-06-26           0        0               0                 0  ...   \n",
       "2019-06-27           0        0               0                 0  ...   \n",
       "2019-06-28           0        0               0                 0  ...   \n",
       "2019-06-29           0        0               0                 0  ...   \n",
       "2019-06-30           0        0               0                 0  ...   \n",
       "\n",
       "            Blood Clot  Jaundice  Ankle Twist  Concentrated Urine  Pain  Boil  \\\n",
       "Date                                                                            \n",
       "2019-06-26           0         0            0                   0     0     0   \n",
       "2019-06-27           0         0            0                   0     0     0   \n",
       "2019-06-28           0         0            0                   0     0     0   \n",
       "2019-06-29           0         0            0                   0     0     0   \n",
       "2019-06-30           0         0            0                   0     0     0   \n",
       "\n",
       "            Loose Stool  Constipation  Dizziness  Sinusitis  \n",
       "Date                                                         \n",
       "2019-06-26            0             0          0          0  \n",
       "2019-06-27            0             0          0          0  \n",
       "2019-06-28            0             0          0          0  \n",
       "2019-06-29            0             0          0          0  \n",
       "2019-06-30            0             0          0          0  \n",
       "\n",
       "[5 rows x 64 columns]"
      ]
     },
     "execution_count": 23,
     "metadata": {},
     "output_type": "execute_result"
    }
   ],
   "source": [
    "df.tail()"
   ]
  },
  {
   "cell_type": "code",
   "execution_count": 24,
   "metadata": {},
   "outputs": [],
   "source": [
    "sorted_data=df.sum().sort_values(ascending=False)"
   ]
  },
  {
   "cell_type": "code",
   "execution_count": 25,
   "metadata": {},
   "outputs": [
    {
     "data": {
      "text/plain": [
       "Index(['Urti', 'Cough_Cold', 'Acidity', 'Indigestion', 'Fungal infection',\n",
       "       'Fever', 'injury/cut', 'Itching', 'Oral ulcer', 'Diarrhoea', 'Headache',\n",
       "       'Pain', 'General weakness', 'weakness', 'Myalgia', 'Hypertension',\n",
       "       'Ring worm', 'Loss of appetite', 'Back pain', 'Abdomen pain',\n",
       "       'Lethargy', 'Dysentary', 'Swelling', 'allergy', 'Running nose',\n",
       "       'foot pain', 'APD', 'Throat pain', 'Giddiness', 'Constipation',\n",
       "       'Vomitting', 'LRTI', 'Gastritis', 'Boil', 'Knee pain', 'Dizziness',\n",
       "       'vertigo', 'watering of eye', 'pharyngotis', 'Dehydration',\n",
       "       'Loose Stool', 'Jaundice', 'Ear Infection', 'Epigastric pain',\n",
       "       'old abbrassion', 'Burn', 'Sinusitis', 'Systeric HTN', 'Worm infection',\n",
       "       'follicular torillitis      ', 'Anaemia', 'pain wrist',\n",
       "       'Vitamin Deficiency', 'Rheumatic fever', 'Low BP', 'Concentrated Urine',\n",
       "       'Hairfall', 'acute torillitis', 'Ankle Twist', 'Breathlessness',\n",
       "       'Blood Clot', 'GAD', 'Asthama', 'Whooping cough'],\n",
       "      dtype='object')"
      ]
     },
     "execution_count": 25,
     "metadata": {},
     "output_type": "execute_result"
    }
   ],
   "source": [
    "sorted_data.index"
   ]
  },
  {
   "cell_type": "code",
   "execution_count": 26,
   "metadata": {},
   "outputs": [],
   "source": [
    "cols_to_extract=[sorted_data.index[i] for i in range(5)]"
   ]
  },
  {
   "cell_type": "code",
   "execution_count": 27,
   "metadata": {},
   "outputs": [
    {
     "data": {
      "text/plain": [
       "['Urti', 'Cough_Cold', 'Acidity', 'Indigestion', 'Fungal infection']"
      ]
     },
     "execution_count": 27,
     "metadata": {},
     "output_type": "execute_result"
    }
   ],
   "source": [
    "cols_to_extract"
   ]
  },
  {
   "cell_type": "code",
   "execution_count": 29,
   "metadata": {},
   "outputs": [],
   "source": [
    "for i in cols_to_extract:\n",
    "    d_temp=df[i]\n",
    "    d_temp.to_frame().to_csv('prepared_individual_data/'+i+\".csv\")"
   ]
  },
  {
   "cell_type": "code",
   "execution_count": 30,
   "metadata": {},
   "outputs": [
    {
     "data": {
      "text/plain": [
       "Date\n",
       "2018-06-01    0\n",
       "2018-06-02    0\n",
       "2018-06-03    0\n",
       "2018-06-04    0\n",
       "2018-06-05    0\n",
       "             ..\n",
       "2019-06-26    0\n",
       "2019-06-27    0\n",
       "2019-06-28    0\n",
       "2019-06-29    0\n",
       "2019-06-30    0\n",
       "Name: Fungal infection, Length: 395, dtype: int64"
      ]
     },
     "execution_count": 30,
     "metadata": {},
     "output_type": "execute_result"
    }
   ],
   "source": [
    "d_temp"
   ]
  },
  {
   "cell_type": "code",
   "execution_count": 31,
   "metadata": {},
   "outputs": [
    {
     "data": {
      "text/plain": [
       "pandas.core.series.Series"
      ]
     },
     "execution_count": 31,
     "metadata": {},
     "output_type": "execute_result"
    }
   ],
   "source": [
    "type(d_temp)"
   ]
  },
  {
   "cell_type": "code",
   "execution_count": null,
   "metadata": {},
   "outputs": [],
   "source": []
  }
 ],
 "metadata": {
  "kernelspec": {
   "display_name": "Python 3",
   "language": "python",
   "name": "python3"
  },
  "language_info": {
   "codemirror_mode": {
    "name": "ipython",
    "version": 3
   },
   "file_extension": ".py",
   "mimetype": "text/x-python",
   "name": "python",
   "nbconvert_exporter": "python",
   "pygments_lexer": "ipython3",
   "version": "3.6.8"
  }
 },
 "nbformat": 4,
 "nbformat_minor": 2
}
